{
  "nbformat": 4,
  "nbformat_minor": 0,
  "metadata": {
    "colab": {
      "provenance": [],
      "authorship_tag": "ABX9TyO5X0MdzCcZ3lg/Pyvi6cqt",
      "include_colab_link": true
    },
    "kernelspec": {
      "name": "python3",
      "display_name": "Python 3"
    },
    "language_info": {
      "name": "python"
    }
  },
  "cells": [
    {
      "cell_type": "markdown",
      "metadata": {
        "id": "view-in-github",
        "colab_type": "text"
      },
      "source": [
        "<a href=\"https://colab.research.google.com/github/alphamale126/NLP-Using-Regex/blob/main/NLP_using_Regex.ipynb\" target=\"_parent\"><img src=\"https://colab.research.google.com/assets/colab-badge.svg\" alt=\"Open In Colab\"/></a>"
      ]
    },
    {
      "cell_type": "markdown",
      "source": [
        "NLP Using Regular expressions"
      ],
      "metadata": {
        "id": "u-w93UNkRQVP"
      }
    },
    {
      "cell_type": "markdown",
      "source": [
        "Lets extract information from wikipedia and use this as an example for any text extraction process later. We use https://regex101.com/ for pattern writing for information extraction.\n",
        ""
      ],
      "metadata": {
        "id": "uo_zib0ERe4I"
      }
    },
    {
      "cell_type": "code",
      "execution_count": 1,
      "metadata": {
        "id": "EL8S5JGwR-QA"
      },
      "outputs": [],
      "source": [
        "import re"
      ]
    },
    {
      "cell_type": "code",
      "source": [
        "text= '''\n",
        "Born\tElon Reeve Musk\n",
        "June 28, 1971 (age 51)\n",
        "Pretoria, Transvaal, South Africa\n",
        "Citizenship\n",
        "South Africa (1971–present)\n",
        "Canada (1971–present)\n",
        "United States (2002–present)\n",
        "Education\tUniversity of Pennsylvania (BS, BA)\n",
        "Title\n",
        "Founder, CEO and Chief Engineer of SpaceX\n",
        "CEO and product architect of Tesla, Inc.\n",
        "Founder of The Boring Company\n",
        "Co-founder of Neuralink, OpenAI, and Zip2\n",
        "President of Musk Foundation\n",
        "Founder of the Boring Company and X Corp\n",
        "Co-founder of Neuralink\n",
        "'''"
      ],
      "metadata": {
        "id": "tpahfbFCSQF1"
      },
      "execution_count": 2,
      "outputs": []
    },
    {
      "cell_type": "code",
      "source": [
        "def get_pattern_match(pattern, text):\n",
        "    matches = re.findall(pattern, text)\n",
        "    if matches:\n",
        "        return matches[0]"
      ],
      "metadata": {
        "id": "2sRI5fEpTcrI"
      },
      "execution_count": 10,
      "outputs": []
    },
    {
      "cell_type": "markdown",
      "source": [
        "We can get the pattern from the regex101 site with some basic understanding\n"
      ],
      "metadata": {
        "id": "PWpLdsGfT3b6"
      }
    },
    {
      "cell_type": "code",
      "source": [
        "get_pattern_match(r'age (\\d+)', text)"
      ],
      "metadata": {
        "colab": {
          "base_uri": "https://localhost:8080/",
          "height": 36
        },
        "id": "J5xnX21nSrVJ",
        "outputId": "f5a87066-ad87-4d71-ac69-a448c9f9b8ac"
      },
      "execution_count": 11,
      "outputs": [
        {
          "output_type": "execute_result",
          "data": {
            "text/plain": [
              "'51'"
            ],
            "application/vnd.google.colaboratory.intrinsic+json": {
              "type": "string"
            }
          },
          "metadata": {},
          "execution_count": 11
        }
      ]
    },
    {
      "cell_type": "code",
      "source": [
        "get_pattern_match(r'Born(.*)\\n', text).strip()"
      ],
      "metadata": {
        "colab": {
          "base_uri": "https://localhost:8080/",
          "height": 36
        },
        "id": "-IWglOVWTLIV",
        "outputId": "ed1f8056-0bdf-406b-faeb-570448b44489"
      },
      "execution_count": 12,
      "outputs": [
        {
          "output_type": "execute_result",
          "data": {
            "text/plain": [
              "'Elon Reeve Musk'"
            ],
            "application/vnd.google.colaboratory.intrinsic+json": {
              "type": "string"
            }
          },
          "metadata": {},
          "execution_count": 12
        }
      ]
    },
    {
      "cell_type": "markdown",
      "source": [
        "So lets write a piece of code to extract all the information together"
      ],
      "metadata": {
        "id": "g11HjpnjUFRr"
      }
    },
    {
      "cell_type": "code",
      "source": [
        "def extract_personal_information(text):\n",
        "  age = get_pattern_match(r'age (\\d+)', text)\n",
        "  full_name = get_pattern_match(r'Born(.*)\\n', text)\n",
        "  birth_date = get_pattern_match(r'Born.*\\n(.*)\\(age', text)\n",
        "  birth_place = get_pattern_match(r'\\(age.*\\n(.*)', text)\n",
        "  return {\n",
        "      'age': int(age),\n",
        "      'name': full_name.strip(),\n",
        "      'birth_date': birth_date.strip(),\n",
        "      'birth_place': birth_place.strip()\n",
        "  }"
      ],
      "metadata": {
        "id": "4rlxO61KS0-q"
      },
      "execution_count": 13,
      "outputs": []
    },
    {
      "cell_type": "code",
      "source": [
        "extract_personal_information(text)"
      ],
      "metadata": {
        "colab": {
          "base_uri": "https://localhost:8080/"
        },
        "id": "q1HQ6btzU1aa",
        "outputId": "45831895-4b24-49b7-a11b-94af8c63a7b5"
      },
      "execution_count": 14,
      "outputs": [
        {
          "output_type": "execute_result",
          "data": {
            "text/plain": [
              "{'age': 51,\n",
              " 'name': 'Elon Reeve Musk',\n",
              " 'birth_date': 'June 28, 1971',\n",
              " 'birth_place': 'Pretoria, Transvaal, South Africa'}"
            ]
          },
          "metadata": {},
          "execution_count": 14
        }
      ]
    },
    {
      "cell_type": "code",
      "source": [
        "text = '''\n",
        "Born\tMukesh Dhirubhai Ambani\n",
        "19 April 1957 (age 65)\n",
        "Aden, Colony of Aden\n",
        "(present-day Yemen)[1][2]\n",
        "Nationality\tIndian\n",
        "Alma mater\n",
        "St. Xavier's College, Mumbai\n",
        "Institute of Chemical Technology (B.E)\n",
        "Stanford University (drop-out)\n",
        "Occupation\tChairman and MD, Reliance Industries\n",
        "Spouse(s)\tNita Ambani ​(m. 1985)​\n",
        "'''"
      ],
      "metadata": {
        "id": "HpZkVaoJU67_"
      },
      "execution_count": 15,
      "outputs": []
    },
    {
      "cell_type": "code",
      "source": [
        "extract_personal_information(text)"
      ],
      "metadata": {
        "colab": {
          "base_uri": "https://localhost:8080/"
        },
        "id": "rKtUdkmJVRHm",
        "outputId": "24209265-62da-4b60-976e-9d7d54b24ded"
      },
      "execution_count": 16,
      "outputs": [
        {
          "output_type": "execute_result",
          "data": {
            "text/plain": [
              "{'age': 65,\n",
              " 'name': 'Mukesh Dhirubhai Ambani',\n",
              " 'birth_date': '19 April 1957',\n",
              " 'birth_place': 'Aden, Colony of Aden'}"
            ]
          },
          "metadata": {},
          "execution_count": 16
        }
      ]
    },
    {
      "cell_type": "markdown",
      "source": [
        "Lets do some more samples for general practice"
      ],
      "metadata": {
        "id": "EzAjq7EbgoKd"
      }
    },
    {
      "cell_type": "code",
      "source": [
        "text = '''\n",
        "Concentration of Risk: Credit Risk\n",
        "Financial instruments that potentially subject us to a concentration of credit risk consist of cash, cash equivalents, marketable securities,\n",
        "restricted cash, accounts receivable, convertible note hedges, and interest rate swaps. Our cash balances are primarily invested in money market funds\n",
        "or on deposit at high credit quality financial institutions in the U.S. These deposits are typically in excess of insured limits. As of September 30, 2021\n",
        "and December 31, 2020, no entity represented 10% or more of our total accounts receivable balance. The risk of concentration for our convertible note\n",
        "hedges and interest rate swaps is mitigated by transacting with several highly-rated multinational banks.\n",
        "Concentration of Risk: Supply Risk\n",
        "We are dependent on our suppliers, including single source suppliers, and the inability of these suppliers to deliver necessary components of our\n",
        "products in a timely manner at prices, quality levels and volumes acceptable to us, or our inability to efficiently manage these components from these\n",
        "suppliers, could have a material adverse effect on our business, prospects, financial condition and operating results.\n",
        "'''\n",
        "pattern = 'Risk:([a-z A-Z]*)\\n'\n",
        "\n",
        "re.findall(pattern, text)\n"
      ],
      "metadata": {
        "colab": {
          "base_uri": "https://localhost:8080/"
        },
        "id": "VRKS9DYRZYfF",
        "outputId": "c1b51ba6-edf2-40aa-9af9-18728d4bdffd"
      },
      "execution_count": 76,
      "outputs": [
        {
          "output_type": "execute_result",
          "data": {
            "text/plain": [
              "[' Credit Risk', ' Supply Risk']"
            ]
          },
          "metadata": {},
          "execution_count": 76
        }
      ]
    },
    {
      "cell_type": "code",
      "source": [
        "text = '''\n",
        "Follow our leader Elon musk on twitter here: https://twitter.com/elonmusk, more information\n",
        "on Tesla's products can be found at https://www.tesla.com/. Also here are leading influencers\n",
        "for tesla related news,\n",
        "https://twitter.com/teslarati\n",
        "https://twitter.com/dummy_tesla\n",
        "https://twitter.com/dummy_2_tesla\n",
        "'''"
      ],
      "metadata": {
        "id": "q8in0EK8gHKD"
      },
      "execution_count": 85,
      "outputs": []
    },
    {
      "cell_type": "code",
      "source": [
        "pattern = 'twitter.com.([a-zA-Z_0-9]*)'\n",
        "\n",
        "re.findall(pattern, text)"
      ],
      "metadata": {
        "colab": {
          "base_uri": "https://localhost:8080/"
        },
        "id": "O-gs7V2FgIoq",
        "outputId": "b7e63d04-1663-4bd6-b7af-f150bf3f1276"
      },
      "execution_count": 87,
      "outputs": [
        {
          "output_type": "execute_result",
          "data": {
            "text/plain": [
              "['elonmusk', 'teslarati', 'dummy_tesla', 'dummy_2_tesla']"
            ]
          },
          "metadata": {},
          "execution_count": 87
        }
      ]
    }
  ]
}